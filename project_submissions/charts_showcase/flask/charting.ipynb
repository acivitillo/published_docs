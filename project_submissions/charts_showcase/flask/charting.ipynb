{
 "cells": [
  {
   "cell_type": "code",
   "execution_count": 30,
   "metadata": {},
   "outputs": [
    {
     "data": {
      "application/vnd.jupyter.widget-view+json": {
       "model_id": "5c143a969ec64099884c8f3e534a8cc6",
       "version_major": 2,
       "version_minor": 0
      },
      "text/plain": [
       "Dropdown(description='Customer:', options=(('Gonçalves',), ('Köhler',), ('Tremblay',), ('Hansen',), ('Wichterl…"
      ]
     },
     "metadata": {},
     "output_type": "display_data"
    }
   ],
   "source": [
    "import ipywidgets as widgets\n",
    "import sqlite3\n",
    "\n",
    "ROOT_PATH = os.path.abspath(\"\")\n",
    "DB_PATH = os.path.join(ROOT_PATH, \"python_data_products_workshop\", \"data\", \"chinook.db\")\n",
    "\n",
    "conn = sqlite3.connect(DB_PATH)\n",
    "\n",
    "sql = \"select LastName from customers\"\n",
    "lastName = \"some name\"\n",
    "_sql = f\"select {lastName} from customers\"\n",
    "results = conn.execute(sql).fetchall()\n",
    "options = [option[0] for option in options]\n",
    "\n",
    "widgets.Dropdown(\n",
    "    options=results,\n",
    "    description='Customer:',\n",
    "    disabled=False,\n",
    ")\n",
    "\n"
   ]
  },
  {
   "cell_type": "code",
   "execution_count": 27,
   "metadata": {},
   "outputs": [
    {
     "data": {
      "text/plain": [
       "['G',\n",
       " 'K',\n",
       " 'T',\n",
       " 'H',\n",
       " 'W',\n",
       " 'H',\n",
       " 'G',\n",
       " 'P',\n",
       " 'N',\n",
       " 'M',\n",
       " 'R',\n",
       " 'A',\n",
       " 'R',\n",
       " 'P',\n",
       " 'P',\n",
       " 'H',\n",
       " 'S',\n",
       " 'B',\n",
       " 'G',\n",
       " 'M',\n",
       " 'C',\n",
       " 'L',\n",
       " 'G',\n",
       " 'R',\n",
       " 'S',\n",
       " 'C',\n",
       " 'G',\n",
       " 'B',\n",
       " 'B',\n",
       " 'F',\n",
       " 'S',\n",
       " 'M',\n",
       " 'S',\n",
       " 'F',\n",
       " 'S',\n",
       " 'S',\n",
       " 'Z',\n",
       " 'S',\n",
       " 'B',\n",
       " 'L',\n",
       " 'D',\n",
       " 'G',\n",
       " 'M',\n",
       " 'H',\n",
       " 'K',\n",
       " 'O',\n",
       " 'M',\n",
       " 'V',\n",
       " 'W',\n",
       " 'M',\n",
       " 'J',\n",
       " 'J',\n",
       " 'H',\n",
       " 'M',\n",
       " 'T',\n",
       " 'G',\n",
       " 'R',\n",
       " 'P',\n",
       " 'S']"
      ]
     },
     "execution_count": 27,
     "metadata": {},
     "output_type": "execute_result"
    }
   ],
   "source": [
    "options = [option for option in options]\n",
    "options"
   ]
  }
 ],
 "metadata": {
  "kernelspec": {
   "display_name": "Python 3",
   "language": "python",
   "name": "python3"
  },
  "language_info": {
   "codemirror_mode": {
    "name": "ipython",
    "version": 3
   },
   "file_extension": ".py",
   "mimetype": "text/x-python",
   "name": "python",
   "nbconvert_exporter": "python",
   "pygments_lexer": "ipython3",
   "version": "3.7.3"
  }
 },
 "nbformat": 4,
 "nbformat_minor": 4
}
