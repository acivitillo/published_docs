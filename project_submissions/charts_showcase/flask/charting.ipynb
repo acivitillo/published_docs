{
 "cells": [
  {
   "cell_type": "code",
   "execution_count": null,
   "metadata": {},
   "outputs": [],
   "source": [
    "import ipywidgets as widgets\n",
    "import sqlite3\n",
    "import os\n",
    "import altair as alt\n",
    "import pandas as pd\n",
    "from config import DB_FOLDER_PATH_S\n",
    "\n",
    "DB_FOLDER_PATH = os.path.abspath(DB_FOLDER_PATH_S)\n",
    "print(DB_FOLDER_PATH)"
   ]
  },
  {
   "cell_type": "code",
   "execution_count": null,
   "metadata": {},
   "outputs": [],
   "source": [
    "# ROOT_PATH = os.path.abspath(\"\")\n",
    "DB_PATH = os.path.join(DB_FOLDER_PATH, \"ex3_db\", \"chinook.db\")\n",
    "\n",
    "conn = sqlite3.connect(DB_PATH)\n",
    "\n",
    "sql = \"select LastName from customers\"\n",
    "lastName = \"some name\"\n",
    "_sql = f\"select {lastName} from customers\"\n",
    "results = conn.execute(sql).fetchall()"
   ]
  },
  {
   "cell_type": "code",
   "execution_count": null,
   "metadata": {},
   "outputs": [],
   "source": [
    "options = [option[0] for option in results]\n",
    "\n",
    "widgets.Dropdown(\n",
    "    options=options,\n",
    "    description='Customer:',\n",
    "    disabled=False,\n",
    ")"
   ]
  },
  {
   "cell_type": "code",
   "execution_count": null,
   "metadata": {},
   "outputs": [],
   "source": [
    "options = [option[0] for option in results]\n",
    "options"
   ]
  },
  {
   "cell_type": "code",
   "execution_count": null,
   "metadata": {},
   "outputs": [],
   "source": []
  }
 ],
 "metadata": {
  "kernelspec": {
   "display_name": "Python 3",
   "language": "python",
   "name": "python3"
  },
  "language_info": {
   "codemirror_mode": {
    "name": "ipython",
    "version": 3
   },
   "file_extension": ".py",
   "mimetype": "text/x-python",
   "name": "python",
   "nbconvert_exporter": "python",
   "pygments_lexer": "ipython3",
   "version": "3.7.6"
  }
 },
 "nbformat": 4,
 "nbformat_minor": 4
}
